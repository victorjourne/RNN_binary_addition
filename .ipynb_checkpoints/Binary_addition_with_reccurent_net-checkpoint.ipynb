{
 "cells": [
  {
   "cell_type": "markdown",
   "metadata": {},
   "source": [
    "# Understand Recurrent Neural Network with Keras"
   ]
  },
  {
   "cell_type": "markdown",
   "metadata": {},
   "source": [
    "A reccurent neural network (RNN) is a neural network with a feedback loop. Contrary to a standard neural network, a sample got an extra dimension, a sequencing. In Keras, it is called timestep dimension.\n",
    "\n",
    "\n",
    "\n",
    "This kind of network aims to keep in mind its states accross the timesteps.  \n",
    "The fundamental equations of a simple RNN expressed at the timestep  are:\n",
    "$$o^t = f(h^t; \\theta) $$\n",
    "$$h^t = g(h^{t-1}, x^t; \\theta)$$\n",
    "Where $$o\n",
    "\n",
    "![title](RNN.png)\n",
    "\n",
    "\n",
    "\n",
    "\n",
    "Often, as soon as a new sample is presented to the network,"
   ]
  },
  {
   "cell_type": "code",
   "execution_count": null,
   "metadata": {
    "collapsed": true
   },
   "outputs": [],
   "source": []
  }
 ],
 "metadata": {
  "anaconda-cloud": {},
  "kernelspec": {
   "display_name": "Python [Root]",
   "language": "python",
   "name": "Python [Root]"
  },
  "language_info": {
   "codemirror_mode": {
    "name": "ipython",
    "version": 2
   },
   "file_extension": ".py",
   "mimetype": "text/x-python",
   "name": "python",
   "nbconvert_exporter": "python",
   "pygments_lexer": "ipython2",
   "version": "2.7.11"
  }
 },
 "nbformat": 4,
 "nbformat_minor": 0
}
